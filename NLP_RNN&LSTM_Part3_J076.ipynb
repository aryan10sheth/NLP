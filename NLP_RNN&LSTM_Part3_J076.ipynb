{
  "nbformat": 4,
  "nbformat_minor": 0,
  "metadata": {
    "colab": {
      "provenance": []
    },
    "kernelspec": {
      "name": "python3",
      "display_name": "Python 3"
    },
    "language_info": {
      "name": "python"
    }
  },
  "cells": [
    {
      "cell_type": "code",
      "source": [
        "import re\n",
        "import pandas as pd\n",
        "\n",
        "df = pd.read_csv(\"pronoun_testcases.csv\")"
      ],
      "metadata": {
        "id": "hwmoEig_CsqO"
      },
      "execution_count": 21,
      "outputs": []
    },
    {
      "cell_type": "code",
      "source": [
        "COMMON_NOUNS = {\n",
        "    'book', 'laptop', 'car', 'attitude', 'trip', 'bag', 'pen',\n",
        "    'phone', 'room', 'shoes', 'idea', 'warning'\n",
        "}"
      ],
      "metadata": {
        "id": "aO7i_egnD5xF"
      },
      "execution_count": 22,
      "outputs": []
    },
    {
      "cell_type": "code",
      "source": [
        "def smart_pronoun_transform(text, target_gender):\n",
        "    words = re.findall(r\"\\w+|[^\\w\\s]\", text)\n",
        "    transformed = []\n",
        "\n",
        "    for i, word in enumerate(words):\n",
        "        lower = word.lower()\n",
        "\n",
        "        if target_gender == 'female':\n",
        "            if lower == 'he':\n",
        "                new_word = 'she'\n",
        "            elif lower == 'him':\n",
        "                new_word = 'her'\n",
        "            elif lower == 'his':\n",
        "                if i + 1 < len(words) and re.match(r'\\w+', words[i + 1]):\n",
        "                    new_word = 'her'\n",
        "                else:\n",
        "                    new_word = 'his'\n",
        "            elif lower == 'himself':\n",
        "                new_word = 'herself'\n",
        "            else:\n",
        "                new_word = word\n",
        "\n",
        "        elif target_gender == 'male':\n",
        "            if lower == 'she':\n",
        "                new_word = 'he'\n",
        "            elif lower == 'her':\n",
        "                next_word = words[i + 1].lower() if i + 1 < len(words) and re.match(r'\\w+', words[i + 1]) else \"\"\n",
        "                if next_word in COMMON_NOUNS:\n",
        "                    new_word = 'his'\n",
        "                else:\n",
        "                    new_word = 'him'\n",
        "            elif lower == 'hers':\n",
        "                new_word = 'his'\n",
        "            elif lower == 'herself':\n",
        "                new_word = 'himself'\n",
        "            else:\n",
        "                new_word = word\n",
        "        else:\n",
        "            new_word = word\n",
        "\n",
        "        if word[0].isupper():\n",
        "            new_word = new_word.capitalize()\n",
        "\n",
        "        transformed.append(new_word)\n",
        "\n",
        "    return ''.join([\n",
        "        t if re.match(r\"\\W\", t) or i == 0 or re.match(r\"\\W\", transformed[i - 1]) else ' ' + t\n",
        "        for i, t in enumerate(transformed)\n",
        "    ])"
      ],
      "metadata": {
        "id": "sYNnehCJD--9"
      },
      "execution_count": 23,
      "outputs": []
    },
    {
      "cell_type": "code",
      "source": [
        "df['predicted_output'] = df.apply(\n",
        "    lambda row: smart_pronoun_transform(row['input_text'], row['target_gender']),\n",
        "    axis=1\n",
        ")"
      ],
      "metadata": {
        "id": "nZ9e_seOCski"
      },
      "execution_count": 24,
      "outputs": []
    },
    {
      "cell_type": "code",
      "source": [
        "df['correct'] = df['predicted_output'] == df['expected_output']\n",
        "correct = df['correct'].sum()\n",
        "total = len(df)\n",
        "accuracy = correct / total * 100\n",
        "\n",
        "print(f\"\\n Accuracy: {correct}/{total} correct ({accuracy:.2f}%)\")"
      ],
      "metadata": {
        "colab": {
          "base_uri": "https://localhost:8080/"
        },
        "id": "p-HGeLsICsiL",
        "outputId": "693691e0-943c-4359-8c8c-4721c45852c5"
      },
      "execution_count": 25,
      "outputs": [
        {
          "output_type": "stream",
          "name": "stdout",
          "text": [
            "\n",
            " Accuracy: 26/26 correct (100.00%)\n"
          ]
        }
      ]
    },
    {
      "cell_type": "code",
      "source": [],
      "metadata": {
        "id": "8q1rb_4GCsfg"
      },
      "execution_count": 20,
      "outputs": []
    },
    {
      "cell_type": "code",
      "source": [],
      "metadata": {
        "id": "zrZT7OsACqlU"
      },
      "execution_count": null,
      "outputs": []
    }
  ]
}