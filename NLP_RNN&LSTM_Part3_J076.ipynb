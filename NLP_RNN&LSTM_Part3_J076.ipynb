{
  "nbformat": 4,
  "nbformat_minor": 0,
  "metadata": {
    "colab": {
      "provenance": []
    },
    "kernelspec": {
      "name": "python3",
      "display_name": "Python 3"
    },
    "language_info": {
      "name": "python"
    }
  },
  "cells": [
    {
      "cell_type": "code",
      "source": [
        "import spacy\n",
        "import pandas as pd\n",
        "\n",
        "nlp = spacy.load(\"en_core_web_sm\")"
      ],
      "metadata": {
        "id": "IjJc24zpG-gI"
      },
      "execution_count": 8,
      "outputs": []
    },
    {
      "cell_type": "code",
      "source": [
        "df = pd.read_csv(\"pronoun_testcases.csv\")"
      ],
      "metadata": {
        "id": "Ic-TUYOcG-df"
      },
      "execution_count": 9,
      "outputs": []
    },
    {
      "cell_type": "code",
      "source": [
        "# Define a function to transform pronouns based on target gender\n",
        "def transform_with_spacy(text, target_gender):\n",
        "    # Process the input text using spaCy\n",
        "    doc = nlp(text)\n",
        "    transformed = []\n",
        "\n",
        "    # Iterate through each token (word) in the processed text\n",
        "    for token in doc:\n",
        "        orig = token.text # Get the original word\n",
        "        lower = token.text.lower() # Get the lowercase word\n",
        "        tag = token.tag_  # Get the part-of-speech tag (e.g., PRP for pronoun, PRP$ for possessive pronoun)\n",
        "\n",
        "        new_word = orig # Initialize the new word with the original word\n",
        "\n",
        "        # Check the target gender and replace pronouns accordingly\n",
        "        if target_gender == \"female\":\n",
        "            if lower == \"he\":\n",
        "                new_word = \"she\"\n",
        "            elif lower == \"him\":\n",
        "                new_word = \"her\"\n",
        "            # For \"his\", check the tag to distinguish between possessive and non-possessive\n",
        "            elif lower == \"his\":\n",
        "                new_word = \"her\" if tag == \"PRP$\" else \"his\"\n",
        "            elif lower == \"himself\":\n",
        "                new_word = \"herself\"\n",
        "\n",
        "        elif target_gender == \"male\":\n",
        "            if lower == \"she\":\n",
        "                new_word = \"he\"\n",
        "            elif lower == \"her\":\n",
        "                # For \"her\", check the tag to distinguish between possessive and non-possessive\n",
        "                new_word = \"his\" if tag == \"PRP$\" else \"him\"\n",
        "            elif lower == \"hers\":\n",
        "                new_word = \"his\"\n",
        "            elif lower == \"herself\":\n",
        "                new_word = \"himself\"\n",
        "\n",
        "        # Capitalize the new word if the original word was capitalized\n",
        "        if orig[0].isupper():\n",
        "            new_word = new_word.capitalize()\n",
        "\n",
        "        # Append the new word and its trailing whitespace to the transformed list\n",
        "        transformed.append((new_word, token.whitespace_))\n",
        "\n",
        "    # Join the transformed words and their whitespaces to form the final string\n",
        "    return ''.join([w + ws for w, ws in transformed])\n",
        "\n",
        "# Apply the transform_with_spacy function to each row of the DataFrame\n",
        "# This creates a new column 'predicted_output' with the transformed text\n",
        "df['predicted_output'] = df.apply(\n",
        "    lambda row: transform_with_spacy(row['input_text'], row['target_gender']),\n",
        "    axis=1\n",
        ")"
      ],
      "metadata": {
        "id": "xNK8yXdmHCEi"
      },
      "execution_count": 10,
      "outputs": []
    },
    {
      "cell_type": "code",
      "source": [
        "# Compare the predicted output with the expected output to check for correctness\n",
        "df['correct'] = df['predicted_output'] == df['expected_output']\n",
        "# Count the number of correct transformations\n",
        "correct = df['correct'].sum()\n",
        "# Get the total number of test cases\n",
        "total = len(df)\n",
        "# Calculate the accuracy\n",
        "accuracy = correct / total * 100\n",
        "\n",
        "# Print the accuracy results\n",
        "print(f\"\\n Accuracy: {correct}/{total} correct ({accuracy:.2f}%)\")"
      ],
      "metadata": {
        "colab": {
          "base_uri": "https://localhost:8080/"
        },
        "id": "cwDOBjvAHCCU",
        "outputId": "062b2fa5-5821-4c69-cba1-cc61469d7139"
      },
      "execution_count": 11,
      "outputs": [
        {
          "output_type": "stream",
          "name": "stdout",
          "text": [
            "\n",
            " Accuracy: 26/26 correct (100.00%)\n"
          ]
        }
      ]
    },
    {
      "cell_type": "code",
      "source": [],
      "metadata": {
        "id": "IQb3mePiGSew"
      },
      "execution_count": null,
      "outputs": []
    }
  ]
}