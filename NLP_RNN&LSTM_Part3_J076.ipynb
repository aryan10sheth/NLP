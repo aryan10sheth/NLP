{
  "nbformat": 4,
  "nbformat_minor": 0,
  "metadata": {
    "colab": {
      "provenance": []
    },
    "kernelspec": {
      "name": "python3",
      "display_name": "Python 3"
    },
    "language_info": {
      "name": "python"
    }
  },
  "cells": [
    {
      "cell_type": "code",
      "source": [
        "import spacy\n",
        "import pandas as pd\n",
        "\n",
        "nlp = spacy.load(\"en_core_web_sm\")"
      ],
      "metadata": {
        "id": "IjJc24zpG-gI"
      },
      "execution_count": 4,
      "outputs": []
    },
    {
      "cell_type": "code",
      "source": [
        "df = pd.read_csv(\"pronoun_testcases.csv\")"
      ],
      "metadata": {
        "id": "Ic-TUYOcG-df"
      },
      "execution_count": 5,
      "outputs": []
    },
    {
      "cell_type": "code",
      "source": [
        "def transform_with_spacy(text, target_gender):\n",
        "    doc = nlp(text)\n",
        "    transformed = []\n",
        "\n",
        "    for token in doc:\n",
        "        orig = token.text\n",
        "        lower = token.text.lower()\n",
        "        tag = token.tag_  # e.g., PRP, PRP$\n",
        "\n",
        "        new_word = orig\n",
        "\n",
        "        if target_gender == \"female\":\n",
        "            if lower == \"he\":\n",
        "                new_word = \"she\"\n",
        "            elif lower == \"him\":\n",
        "                new_word = \"her\"\n",
        "            elif lower == \"his\":\n",
        "                new_word = \"her\" if tag == \"PRP$\" else \"his\"\n",
        "            elif lower == \"himself\":\n",
        "                new_word = \"herself\"\n",
        "\n",
        "        elif target_gender == \"male\":\n",
        "            if lower == \"she\":\n",
        "                new_word = \"he\"\n",
        "            elif lower == \"her\":\n",
        "                new_word = \"his\" if tag == \"PRP$\" else \"him\"\n",
        "            elif lower == \"hers\":\n",
        "                new_word = \"his\"\n",
        "            elif lower == \"herself\":\n",
        "                new_word = \"himself\"\n",
        "\n",
        "        if orig[0].isupper():\n",
        "            new_word = new_word.capitalize()\n",
        "\n",
        "        transformed.append((new_word, token.whitespace_))\n",
        "\n",
        "    return ''.join([w + ws for w, ws in transformed])\n",
        "\n",
        "df['predicted_output'] = df.apply(\n",
        "    lambda row: transform_with_spacy(row['input_text'], row['target_gender']),\n",
        "    axis=1\n",
        ")"
      ],
      "metadata": {
        "id": "xNK8yXdmHCEi"
      },
      "execution_count": 6,
      "outputs": []
    },
    {
      "cell_type": "code",
      "source": [
        "df['correct'] = df['predicted_output'] == df['expected_output']\n",
        "correct = df['correct'].sum()\n",
        "total = len(df)\n",
        "accuracy = correct / total * 100\n",
        "\n",
        "print(f\"\\n Accuracy: {correct}/{total} correct ({accuracy:.2f}%)\")"
      ],
      "metadata": {
        "colab": {
          "base_uri": "https://localhost:8080/"
        },
        "id": "cwDOBjvAHCCU",
        "outputId": "ae57b3db-fe69-4e1e-ae73-744322d3b484"
      },
      "execution_count": 7,
      "outputs": [
        {
          "output_type": "stream",
          "name": "stdout",
          "text": [
            "\n",
            " Accuracy: 26/26 correct (100.00%)\n"
          ]
        }
      ]
    },
    {
      "cell_type": "code",
      "source": [],
      "metadata": {
        "id": "IQb3mePiGSew"
      },
      "execution_count": null,
      "outputs": []
    }
  ]
}