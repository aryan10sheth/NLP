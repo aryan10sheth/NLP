{
  "nbformat": 4,
  "nbformat_minor": 0,
  "metadata": {
    "colab": {
      "provenance": []
    },
    "kernelspec": {
      "name": "python3",
      "display_name": "Python 3"
    },
    "language_info": {
      "name": "python"
    }
  },
  "cells": [
    {
      "cell_type": "code",
      "source": [
        "from gensim.models import KeyedVectors\n",
        "import gensim.downloader as api"
      ],
      "metadata": {
        "id": "abPERWCvHCNh"
      },
      "execution_count": 1,
      "outputs": []
    },
    {
      "cell_type": "code",
      "source": [
        "print(\"Loading model...\")\n",
        "model = api.load('word2vec-google-news-300')\n",
        "print(\"Model loaded!\")"
      ],
      "metadata": {
        "colab": {
          "base_uri": "https://localhost:8080/"
        },
        "id": "kXEocNbOHN-4",
        "outputId": "ce945c8b-451c-49f1-a315-185c68355bc7"
      },
      "execution_count": 2,
      "outputs": [
        {
          "output_type": "stream",
          "name": "stdout",
          "text": [
            "Loading model...\n",
            "[==================================================] 100.0% 1662.8/1662.8MB downloaded\n",
            "Model loaded!\n"
          ]
        }
      ]
    },
    {
      "cell_type": "code",
      "source": [
        "words = ['sports', 'university', 'food', 'money', 'technology']\n",
        "print(\"Most similar word:\")\n",
        "for word in words:\n",
        "    print(f\"\\nTop 5 words similar to '{word}':\")\n",
        "    similar_words = model.most_similar(word, topn=5)\n",
        "    for sim_word, score in similar_words:\n",
        "        print(f\"  {sim_word} ({score:.4f})\")"
      ],
      "metadata": {
        "colab": {
          "base_uri": "https://localhost:8080/"
        },
        "id": "fOf_zVxhHPrS",
        "outputId": "917b8e57-d886-4f6d-fe63-10d5c48c617a"
      },
      "execution_count": 13,
      "outputs": [
        {
          "output_type": "stream",
          "name": "stdout",
          "text": [
            "Most similar word:\n",
            "\n",
            "Top 5 words similar to 'sports':\n",
            "  sport (0.6915)\n",
            "  sporting (0.6360)\n",
            "  Sports (0.6295)\n",
            "  DeVillers_reports (0.6123)\n",
            "  athletics (0.6093)\n",
            "\n",
            "Top 5 words similar to 'university':\n",
            "  universities (0.7004)\n",
            "  faculty (0.6781)\n",
            "  unversity (0.6758)\n",
            "  undergraduate (0.6587)\n",
            "  univeristy (0.6585)\n",
            "\n",
            "Top 5 words similar to 'food':\n",
            "  foods (0.6805)\n",
            "  Food (0.6539)\n",
            "  foodstuffs (0.6426)\n",
            "  meals (0.6167)\n",
            "  food_stuffs (0.5929)\n",
            "\n",
            "Top 5 words similar to 'money':\n",
            "  monies (0.7165)\n",
            "  funds (0.7055)\n",
            "  moneys (0.6289)\n",
            "  dollars (0.6289)\n",
            "  cash (0.6151)\n",
            "\n",
            "Top 5 words similar to 'technology':\n",
            "  technologies (0.8332)\n",
            "  innovations (0.6231)\n",
            "  technological_innovations (0.6102)\n",
            "  technol (0.6047)\n",
            "  technological_advancement (0.6036)\n"
          ]
        }
      ]
    },
    {
      "cell_type": "code",
      "source": [
        "print(\"Vector Arithmetic Examples:\")\n",
        "\n",
        "examples = [\n",
        "    (\"king\", \"man\", \"woman\"),\n",
        "    (\"actor\", \"man\", \"woman\"),\n",
        "    (\"uncle\", \"man\", \"woman\"),\n",
        "    (\"father\", \"man\", \"woman\"),\n",
        "    (\"paris\", \"france\", \"germany\"),\n",
        "    (\"beijing\", \"china\", \"japan\")\n",
        "]\n",
        "\n",
        "for a, b, c in examples:\n",
        "    result = model.most_similar(positive=[a, c], negative=[b], topn=1)\n",
        "    print(f\"{a} - {b} + {c} ≈ {result[0][0]} ({result[0][1]:.4f})\")"
      ],
      "metadata": {
        "colab": {
          "base_uri": "https://localhost:8080/"
        },
        "id": "6A9TD8aDHXLZ",
        "outputId": "89280a81-cbe4-4771-c930-028cd476b193"
      },
      "execution_count": 14,
      "outputs": [
        {
          "output_type": "stream",
          "name": "stdout",
          "text": [
            "Vector Arithmetic Examples:\n",
            "king - man + woman ≈ queen (0.7118)\n",
            "actor - man + woman ≈ actress (0.8603)\n",
            "uncle - man + woman ≈ aunt (0.8023)\n",
            "father - man + woman ≈ mother (0.8463)\n",
            "paris - france + germany ≈ berlin (0.4841)\n",
            "beijing - china + japan ≈ tokyo (0.5117)\n"
          ]
        }
      ]
    },
    {
      "cell_type": "markdown",
      "source": [
        "# Part 2"
      ],
      "metadata": {
        "id": "uH0N0RUSJ21_"
      }
    },
    {
      "cell_type": "code",
      "source": [
        "import kagglehub\n",
        "\n",
        "# Download latest version\n",
        "path = kagglehub.dataset_download(\"lakshmi25npathi/imdb-dataset-of-50k-movie-reviews\")\n",
        "\n",
        "print(\"Path to dataset files:\", path)"
      ],
      "metadata": {
        "colab": {
          "base_uri": "https://localhost:8080/"
        },
        "id": "i2732_xUIb61",
        "outputId": "8957cdec-3943-4946-d80e-5c32008c9b3b"
      },
      "execution_count": 15,
      "outputs": [
        {
          "output_type": "stream",
          "name": "stdout",
          "text": [
            "Path to dataset files: /kaggle/input/imdb-dataset-of-50k-movie-reviews\n"
          ]
        }
      ]
    },
    {
      "cell_type": "code",
      "source": [
        "import pandas as pd\n",
        "import os\n",
        "\n",
        "df = pd.read_csv(os.path.join(path, \"IMDB Dataset.csv\"))\n",
        "print(df.head())"
      ],
      "metadata": {
        "colab": {
          "base_uri": "https://localhost:8080/"
        },
        "id": "N9U7mq7aJ_wS",
        "outputId": "64215419-1fa5-499b-cd6c-6daacaae56c3"
      },
      "execution_count": 16,
      "outputs": [
        {
          "output_type": "stream",
          "name": "stdout",
          "text": [
            "                                              review sentiment\n",
            "0  One of the other reviewers has mentioned that ...  positive\n",
            "1  A wonderful little production. <br /><br />The...  positive\n",
            "2  I thought this was a wonderful way to spend ti...  positive\n",
            "3  Basically there's a family where a little boy ...  negative\n",
            "4  Petter Mattei's \"Love in the Time of Money\" is...  positive\n"
          ]
        }
      ]
    },
    {
      "cell_type": "code",
      "source": [
        "import seaborn as sns\n",
        "import matplotlib.pyplot as plt\n",
        "\n",
        "print(df.head())\n",
        "print(df['sentiment'].value_counts())\n",
        "\n",
        "df['review_len'] = df['review'].apply(lambda x: len(x.split()))\n",
        "sns.histplot(df['review_len'], bins=50)\n",
        "plt.title(\"Review Length Distribution\")\n",
        "plt.show()\n"
      ],
      "metadata": {
        "colab": {
          "base_uri": "https://localhost:8080/",
          "height": 646
        },
        "id": "t5TIatdQKMeW",
        "outputId": "d1cf5606-2805-428d-d16a-8255843bfd91"
      },
      "execution_count": 19,
      "outputs": [
        {
          "output_type": "stream",
          "name": "stdout",
          "text": [
            "                                              review sentiment  review_len\n",
            "0  One of the other reviewers has mentioned that ...  positive         307\n",
            "1  A wonderful little production. <br /><br />The...  positive         162\n",
            "2  I thought this was a wonderful way to spend ti...  positive         166\n",
            "3  Basically there's a family where a little boy ...  negative         138\n",
            "4  Petter Mattei's \"Love in the Time of Money\" is...  positive         230\n",
            "sentiment\n",
            "positive    25000\n",
            "negative    25000\n",
            "Name: count, dtype: int64\n"
          ]
        },
        {
          "output_type": "display_data",
          "data": {
            "text/plain": [
              "<Figure size 640x480 with 1 Axes>"
            ],
            "image/png": "[encoded data removed]"
          },
          "metadata": {}
        }
      ]
    },
    {
      "cell_type": "code",
      "source": [
        "import nltk\n",
        "nltk.download('punkt', force=True)\n",
        "nltk.download('stopwords', force=True)\n"
      ],
      "metadata": {
        "colab": {
          "base_uri": "https://localhost:8080/"
        },
        "id": "OLGnYkqqK0Nq",
        "outputId": "03aa6fd3-d1f1-430b-ecc3-eb225d44d15a"
      },
      "execution_count": 22,
      "outputs": [
        {
          "output_type": "stream",
          "name": "stderr",
          "text": [
            "[nltk_data] Downloading package punkt to /root/nltk_data...\n",
            "[nltk_data]   Unzipping tokenizers/punkt.zip.\n",
            "[nltk_data] Downloading package stopwords to /root/nltk_data...\n",
            "[nltk_data]   Unzipping corpora/stopwords.zip.\n"
          ]
        },
        {
          "output_type": "execute_result",
          "data": {
            "text/plain": [
              "True"
            ]
          },
          "metadata": {},
          "execution_count": 22
        }
      ]
    },
    {
      "cell_type": "code",
      "source": [
        "from nltk.corpus import stopwords\n",
        "from nltk.tokenize import word_tokenize\n",
        "import re\n",
        "\n",
        "stop_words = set(stopwords.words('english'))\n",
        "\n",
        "def clean_text(text):\n",
        "    text = re.sub(r\"<.*?>\", \" \", text)                # remove HTML\n",
        "    text = re.sub(r\"[^a-zA-Z]\", \" \", text)            # remove punctuation/numbers\n",
        "    words = word_tokenize(text.lower())\n",
        "    words = [w for w in words if w not in stop_words and len(w) > 2]\n",
        "    return words\n",
        "\n",
        "df['tokens'] = df['review'].apply(clean_text)\n",
        "print(df[['review', 'tokens']].head())"
      ],
      "metadata": {
        "colab": {
          "base_uri": "https://localhost:8080/"
        },
        "id": "zCXA05X2K5hw",
        "outputId": "caea06ff-cbbe-445d-8114-7a1ab85529d9"
      },
      "execution_count": 27,
      "outputs": [
        {
          "output_type": "stream",
          "name": "stdout",
          "text": [
            "                                              review  \\\n",
            "0  One of the other reviewers has mentioned that ...   \n",
            "1  A wonderful little production. <br /><br />The...   \n",
            "2  I thought this was a wonderful way to spend ti...   \n",
            "3  Basically there's a family where a little boy ...   \n",
            "4  Petter Mattei's \"Love in the Time of Money\" is...   \n",
            "\n",
            "                                              tokens  \n",
            "0  [one, reviewers, mentioned, watching, episode,...  \n",
            "1  [wonderful, little, production, filming, techn...  \n",
            "2  [thought, wonderful, way, spend, time, hot, su...  \n",
            "3  [basically, family, little, boy, jake, thinks,...  \n",
            "4  [petter, mattei, love, time, money, visually, ...  \n"
          ]
        }
      ]
    },
    {
      "cell_type": "code",
      "source": [
        "from gensim.models import KeyedVectors\n",
        "from sklearn.linear_model import LogisticRegression\n",
        "from sklearn.model_selection import train_test_split\n",
        "from sklearn.metrics import classification_report\n",
        "import numpy as np\n",
        "import gensim.downloader as api\n",
        "\n",
        "# Load model\n",
        "w2v = api.load('word2vec-google-news-300')\n",
        "\n",
        "# Average word vectors for a review\n",
        "def avg_word_vector(tokens, model, vector_size=300):\n",
        "    valid_tokens = [word for word in tokens if word in model]\n",
        "    if not valid_tokens:\n",
        "        return np.zeros(vector_size)\n",
        "    return np.mean([model[word] for word in valid_tokens], axis=0)\n",
        "\n",
        "X = np.array([avg_word_vector(tokens, w2v) for tokens in df['tokens']])\n",
        "y = (df['sentiment'] == 'positive').astype(int)\n",
        "\n",
        "X_train, X_test, y_train, y_test = train_test_split(X, y, test_size=0.2, random_state=42)\n",
        "\n",
        "clf = LogisticRegression(max_iter=1000)\n",
        "clf.fit(X_train, y_train)\n",
        "y_pred = clf.predict(X_test)\n",
        "\n",
        "print(\"Pretrained W2V Performance:\\n\", classification_report(y_test, y_pred))\n"
      ],
      "metadata": {
        "colab": {
          "base_uri": "https://localhost:8080/"
        },
        "id": "fGsK9tp9Kcsy",
        "outputId": "f19c8ef1-1396-42ec-ac4b-03d3cc500212"
      },
      "execution_count": 28,
      "outputs": [
        {
          "output_type": "stream",
          "name": "stdout",
          "text": [
            "Pretrained W2V Performance:\n",
            "               precision    recall  f1-score   support\n",
            "\n",
            "           0       0.85      0.85      0.85      4961\n",
            "           1       0.85      0.85      0.85      5039\n",
            "\n",
            "    accuracy                           0.85     10000\n",
            "   macro avg       0.85      0.85      0.85     10000\n",
            "weighted avg       0.85      0.85      0.85     10000\n",
            "\n"
          ]
        }
      ]
    },
    {
      "cell_type": "code",
      "source": [
        "from gensim.models import Word2Vec, FastText\n",
        "\n",
        "# Use tokenized corpus\n",
        "corpus = df['tokens'].tolist()\n",
        "\n",
        "# Skip-gram model\n",
        "skipgram_model = Word2Vec(sentences=corpus, vector_size=100, window=5, sg=1, min_count=2)\n",
        "cbow_model = Word2Vec(sentences=corpus, vector_size=100, window=5, sg=0, min_count=2)\n",
        "fasttext_model = FastText(sentences=corpus, vector_size=100, window=5, min_count=2)\n",
        "\n",
        "def get_model_results(model, name):\n",
        "    X = np.array([avg_word_vector(tokens, model.wv, vector_size=100) for tokens in df['tokens']])\n",
        "    X_train, X_test, y_train, y_test = train_test_split(X, y, test_size=0.2, random_state=42)\n",
        "    clf = LogisticRegression(max_iter=1000)\n",
        "    clf.fit(X_train, y_train)\n",
        "    y_pred = clf.predict(X_test)\n",
        "    print(f\"{name} Model Performance:\\n\", classification_report(y_test, y_pred))\n",
        "\n",
        "get_model_results(skipgram_model, \"Skip-gram\")\n",
        "get_model_results(cbow_model, \"CBOW\")\n",
        "get_model_results(fasttext_model, \"FastText\")\n"
      ],
      "metadata": {
        "colab": {
          "base_uri": "https://localhost:8080/"
        },
        "id": "I2q9P0VKLhZR",
        "outputId": "aad31908-7c4a-4e80-8268-76d9751fdf4a"
      },
      "execution_count": 29,
      "outputs": [
        {
          "output_type": "stream",
          "name": "stdout",
          "text": [
            "Skip-gram Model Performance:\n",
            "               precision    recall  f1-score   support\n",
            "\n",
            "           0       0.88      0.87      0.88      4961\n",
            "           1       0.88      0.89      0.88      5039\n",
            "\n",
            "    accuracy                           0.88     10000\n",
            "   macro avg       0.88      0.88      0.88     10000\n",
            "weighted avg       0.88      0.88      0.88     10000\n",
            "\n",
            "CBOW Model Performance:\n",
            "               precision    recall  f1-score   support\n",
            "\n",
            "           0       0.87      0.85      0.86      4961\n",
            "           1       0.86      0.87      0.86      5039\n",
            "\n",
            "    accuracy                           0.86     10000\n",
            "   macro avg       0.86      0.86      0.86     10000\n",
            "weighted avg       0.86      0.86      0.86     10000\n",
            "\n",
            "FastText Model Performance:\n",
            "               precision    recall  f1-score   support\n",
            "\n",
            "           0       0.85      0.84      0.85      4961\n",
            "           1       0.85      0.86      0.85      5039\n",
            "\n",
            "    accuracy                           0.85     10000\n",
            "   macro avg       0.85      0.85      0.85     10000\n",
            "weighted avg       0.85      0.85      0.85     10000\n",
            "\n"
          ]
        }
      ]
    },
    {
      "cell_type": "code",
      "source": [],
      "metadata": {
        "id": "lUsINGtdMQw2"
      },
      "execution_count": null,
      "outputs": []
    }
  ]
}