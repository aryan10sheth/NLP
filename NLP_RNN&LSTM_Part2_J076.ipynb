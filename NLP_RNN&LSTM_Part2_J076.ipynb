{
  "nbformat": 4,
  "nbformat_minor": 0,
  "metadata": {
    "colab": {
      "provenance": []
    },
    "kernelspec": {
      "name": "python3",
      "display_name": "Python 3"
    },
    "language_info": {
      "name": "python"
    }
  },
  "cells": [
    {
      "cell_type": "code",
      "source": [
        "import re\n",
        "import pandas as pd\n",
        "df = pd.read_csv(\"date_parser_testcases.csv\")"
      ],
      "metadata": {
        "id": "wa5qQpk6BCR5"
      },
      "execution_count": 19,
      "outputs": []
    },
    {
      "cell_type": "code",
      "source": [
        "MONTHS = {\n",
        "    'january': '01', 'jan': '01',\n",
        "    'february': '02', 'feb': '02',\n",
        "    'march': '03', 'mar': '03',\n",
        "    'april': '04', 'apr': '04',\n",
        "    'may': '05',\n",
        "    'june': '06', 'jun': '06',\n",
        "    'july': '07', 'jul': '07',\n",
        "    'august': '08', 'aug': '08',\n",
        "    'september': '09', 'sep': '09', 'sept': '09',\n",
        "    'october': '10', 'oct': '10',\n",
        "    'november': '11', 'nov': '11',\n",
        "    'december': '12', 'dec': '12',\n",
        "}"
      ],
      "metadata": {
        "id": "8JFMdZJxBCOA"
      },
      "execution_count": 20,
      "outputs": []
    },
    {
      "cell_type": "code",
      "source": [
        "def parse_date(text):\n",
        "    text = re.sub(r'\\s+', ' ', text.lower().strip())\n",
        "\n",
        "    match = re.search(r'\\b(\\d{1,2})[\\/\\-\\._](\\d{1,2})[\\/\\-\\._](\\d{2,4})\\b', text)\n",
        "    if match:\n",
        "        d, m, y = match.groups()\n",
        "        y = f\"19{y}\" if len(y) == 2 and int(y) > 30 else f\"20{y}\" if len(y) == 2 else y\n",
        "        return f\"{int(d):02d}/{int(m):02d}/{y}\"\n",
        "\n",
        "    match = re.search(r'\\b(\\d{4})[\\/\\-\\._](\\d{1,2})[\\/\\-\\._](\\d{1,2})\\b', text)\n",
        "    if match:\n",
        "        y, m, d = match.groups()\n",
        "        return f\"{int(d):02d}/{int(m):02d}/{y}\"\n",
        "\n",
        "    match = re.search(r'\\b(\\d{1,2})(?:st|nd|rd|th)?(?:\\s+of)?\\s+([a-zA-Z]+),?\\s+(\\d{4})\\b', text)\n",
        "    if match:\n",
        "        d, mon, y = match.groups()\n",
        "        m = MONTHS.get(mon[:3], '00')\n",
        "        return f\"{int(d):02d}/{m}/{y}\"\n",
        "\n",
        "    match = re.search(r'\\b([a-zA-Z]+)\\s+(\\d{1,2})(?:st|nd|rd|th)?,?\\s+(\\d{4})\\b', text)\n",
        "    if match:\n",
        "        mon, d, y = match.groups()\n",
        "        m = MONTHS.get(mon[:3], '00')\n",
        "        return f\"{int(d):02d}/{m}/{y}\"\n",
        "\n",
        "    match = re.search(r'\\b(\\d{1,2})\\s+([a-zA-Z]+)\\s+(\\d{4})\\b', text)\n",
        "    if match:\n",
        "        d, mon, y = match.groups()\n",
        "        m = MONTHS.get(mon[:3], '00')\n",
        "        return f\"{int(d):02d}/{m}/{y}\"\n",
        "\n",
        "    match = re.search(r'\\bthe\\s+(\\d{1,2})(?:st|nd|rd|th)?\\s+day\\s+of\\s+([a-zA-Z]+),?\\s+(\\d{4})\\b', text)\n",
        "    if match:\n",
        "        d, mon, y = match.groups()\n",
        "        m = MONTHS.get(mon[:3], '00')\n",
        "        return f\"{int(d):02d}/{m}/{y}\"\n",
        "\n",
        "    return \"Invalid Format\""
      ],
      "metadata": {
        "id": "nUzeQTDEBCL4"
      },
      "execution_count": 24,
      "outputs": []
    },
    {
      "cell_type": "code",
      "source": [
        "df['Parsed Output'] = df['Input'].apply(parse_date)"
      ],
      "metadata": {
        "id": "0xf50p81BCJX"
      },
      "execution_count": 25,
      "outputs": []
    },
    {
      "cell_type": "code",
      "source": [
        "df['Correct'] = df['Parsed Output'] == df['Expected Output']\n",
        "correct = df['Correct'].sum()\n",
        "total = len(df)\n",
        "accuracy = correct / total * 100\n",
        "print(f\"\\n Accuracy: {correct}/{total} correct ({accuracy:.2f}%)\")"
      ],
      "metadata": {
        "colab": {
          "base_uri": "https://localhost:8080/"
        },
        "id": "uaMEjJWTBMkX",
        "outputId": "4f9f9319-f9b5-4baa-b56d-5f475590bf77"
      },
      "execution_count": 27,
      "outputs": [
        {
          "output_type": "stream",
          "name": "stdout",
          "text": [
            "\n",
            " Accuracy: 89/100 correct (89.00%)\n"
          ]
        }
      ]
    },
    {
      "cell_type": "code",
      "source": [],
      "metadata": {
        "id": "XGQBg7JwBOoO"
      },
      "execution_count": null,
      "outputs": []
    }
  ]
}